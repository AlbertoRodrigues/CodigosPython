{
 "cells": [
  {
   "cell_type": "code",
   "execution_count": 1,
   "metadata": {},
   "outputs": [],
   "source": [
    "def Minimo(obj):\n",
    "    lista=[]\n",
    "    for i in obj:\n",
    "        lista.append(i)\n",
    "    min=lista[0]\n",
    "    for i in range(len(lista)-1):\n",
    "        if lista[i]<lista[i+1] and lista[i]<min:\n",
    "            min=lista[i]\n",
    "        if lista[i+1]<lista[i] and lista[i+1]<min:\n",
    "            min=lista[i+1]\n",
    "    return (min)\n",
    "\n",
    "\n"
   ]
  },
  {
   "cell_type": "code",
   "execution_count": 2,
   "metadata": {},
   "outputs": [],
   "source": [
    "\n",
    "def Maximo(obj):\n",
    "    lista=[]\n",
    "    for i in obj:\n",
    "        lista.append(i)\n",
    "    max=lista[0]\n",
    "    for i in range(len(lista)-1):\n",
    "        if lista[i]>lista[i+1] and lista[i]>max:\n",
    "            max=lista[i]\n",
    "        if lista[i+1]>lista[i] and lista[i+1]>max:\n",
    "            max=lista[i+1]\n",
    "    return (max)\n",
    "\n"
   ]
  },
  {
   "cell_type": "code",
   "execution_count": 3,
   "metadata": {},
   "outputs": [],
   "source": [
    "conj={2,5,7,4,3,6,1,2,3,5}\n"
   ]
  },
  {
   "cell_type": "code",
   "execution_count": 7,
   "metadata": {},
   "outputs": [
    {
     "name": "stdout",
     "output_type": "stream",
     "text": [
      "1\n",
      "7\n"
     ]
    }
   ],
   "source": [
    "print(Minimo(conj))\n",
    "print(Maximo(conj))"
   ]
  },
  {
   "cell_type": "code",
   "execution_count": 8,
   "metadata": {},
   "outputs": [
    {
     "name": "stdout",
     "output_type": "stream",
     "text": [
      "1\n",
      "9\n"
     ]
    }
   ],
   "source": [
    "print(Minimo([5,4,7,8,9,6,2,2,3,5,1,4,7,8,9]))\n",
    "print(Maximo([5,4,7,8,9,6,2,2,3,5,1,4,7,8,9]))"
   ]
  },
  {
   "cell_type": "code",
   "execution_count": 11,
   "metadata": {},
   "outputs": [
    {
     "name": "stdout",
     "output_type": "stream",
     "text": [
      "4\n",
      "9\n"
     ]
    }
   ],
   "source": [
    "print(Minimo((4,5,8,9,6,4,4)))\n",
    "print(Maximo((4,5,8,9,6,4,4)))"
   ]
  }
 ],
 "metadata": {
  "kernelspec": {
   "display_name": "Python 3",
   "language": "python",
   "name": "python3"
  },
  "language_info": {
   "codemirror_mode": {
    "name": "ipython",
    "version": 3
   },
   "file_extension": ".py",
   "mimetype": "text/x-python",
   "name": "python",
   "nbconvert_exporter": "python",
   "pygments_lexer": "ipython3",
   "version": "3.7.1"
  }
 },
 "nbformat": 4,
 "nbformat_minor": 2
}
